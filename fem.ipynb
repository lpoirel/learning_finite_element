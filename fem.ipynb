{
 "cells": [
  {
   "cell_type": "markdown",
   "metadata": {},
   "source": [
    "# The finite element method\n",
    "We want to solve the ODE\n",
    "$$\\left\\{\\begin{eqnarray}\n",
    "&&p(x)u - \\frac{d}{dx}\\left(q(x) \\frac{du}{dx}\\right) = r(x) \\in \\, ]0, L[\\\\\n",
    "&&u(0) = c, \\quad q(L)\\frac{du}{dx}(L) = d\n",
    "\\end{eqnarray}\\right.$$\n",
    "\n",
    "The Finite Element Method solves this problem in several steps:\n",
    "* Transform the differential equation into a weak formulation\n",
    "* Describe the geometry as a mesh of elements\n",
    "* Integrate the weak form on each element on a set of well chosen functions\n",
    "* Solve an algebraic discrete linear problem\n",
    "\n",
    "A first important ingredient is the choice of a numeric integration method to compute $\\int f(x) dx$."
   ]
  },
  {
   "cell_type": "markdown",
   "metadata": {},
   "source": [
    "## Gaussian quadrature and numerical integration\n",
    "\n",
    "A common method is to approximate the integral by a (discrete) weighted sum of function evaluations on a set of well chosen points.\n",
    "The set of points $\\xi_k$ and their weights $w_k$ is classically computed for integrating on the interval $[-1, 1]$:\n",
    "$$\\int_{-1}^1 \\hat f(\\xi) d\\xi = \\sum_{k=0}^N w_k \\hat f(\\xi_k)$$"
   ]
  },
  {
   "cell_type": "code",
   "execution_count": 100,
   "metadata": {},
   "outputs": [],
   "source": [
    "integration_points = {1: [[0,2]],\n",
    "                      3: [[-0.577350269189625, 1], [+0.577350269189625, 1]],\n",
    "                      5: [[-0.774596669241483, 0.555555555555556],\n",
    "                          [0.0, 0.888888888888889],\n",
    "                          [+0.774596669241483, 0.555555555555556]],\n",
    "                      7: [[-0.861136311594052, 0.347854845137454],\n",
    "                          [-0.339981043584856, 0.652145154862545],\n",
    "                          [+0.861136311594052, 0.347854845137454],\n",
    "                          [+0.339981043584856, 0.652145154862545]]}\n",
    "\n",
    "def integrate_on_reference_element(integration_points, f):\n",
    "    \"\"\"\n",
    "    Compute ∫ f(ξ)dξ on [-1, 1] as Σ w_k f(ξ_k)\n",
    "    \"\"\"\n",
    "    return sum(w_k * f(ξ_k) for ξ_k, w_k in integration_points)"
   ]
  },
  {
   "cell_type": "markdown",
   "metadata": {},
   "source": [
    "We can test if to compute $\\int_{-1}^1 3\\xi²\\ d\\xi$"
   ]
  },
  {
   "cell_type": "code",
   "execution_count": 101,
   "metadata": {},
   "outputs": [
    {
     "data": {
      "text/plain": [
       "1.9999999999999942"
      ]
     },
     "execution_count": 101,
     "metadata": {},
     "output_type": "execute_result"
    }
   ],
   "source": [
    "integrate_on_reference_element(integration_points[3], lambda ξ: 3*ξ**2)"
   ]
  },
  {
   "cell_type": "markdown",
   "metadata": {},
   "source": [
    "The more general integral of a function $f$ on any interval $[a, b]$ can then be computed as \n",
    "$$\\int_a^b f(x) dx = \\int_{-1}^{1} f(T(\\xi))\\ T'(\\xi)\\ d\\xi = \\sum_{k=0}^N w_k\\ f(T(\\xi))\\ T'(\\xi)$$\n",
    "using a transformation $x = T(\\xi)$ such that $a=T(-1)$ and $b=T(1)$ and applying the former quadrature rule on $\\hat f = (f\\circ T) . T'$.\n",
    "\n",
    "We chose the linear interpolation\n",
    "$$T: \\xi \\rightarrow x = a\\frac{1-\\xi}{2} + b\\frac{1+\\xi}{2}$$"
   ]
  },
  {
   "cell_type": "code",
   "execution_count": 17,
   "metadata": {},
   "outputs": [],
   "source": [
    "def integrate(integration_points, domain, f):\n",
    "    a, b = domain\n",
    "    T = lambda ξ: a*(1 - ξ)/2. + b*(1 + ξ)/2. # x = T(ξ)\n",
    "    J = lambda ξ: (b-a)/2.                    # J(ξ) = T'(ξ) = dξ/dx(ξ)\n",
    "    f_hat = lambda ξ: f(T(ξ)) * J(ξ)\n",
    "    return integrate_on_reference_element(integration_points, f_hat)"
   ]
  },
  {
   "cell_type": "code",
   "execution_count": 18,
   "metadata": {
    "collapsed": true,
    "jupyter": {
     "outputs_hidden": true
    }
   },
   "outputs": [
    {
     "name": "stdout",
     "output_type": "stream",
     "text": [
      "∫x^0 dx on [0, 1] computed with gaussian quadrature of order 1 is 1.0\n",
      "∫x^0 dx on [0, 1] computed with gaussian quadrature of order 3 is 1.0\n",
      "∫x^0 dx on [0, 1] computed with gaussian quadrature of order 5 is 1.0000000000000004\n",
      "∫x^0 dx on [0, 1] computed with gaussian quadrature of order 7 is 0.999999999999999\n",
      "\n",
      "∫x^1 dx on [0, 1] computed with gaussian quadrature of order 1 is 0.5\n",
      "∫x^1 dx on [0, 1] computed with gaussian quadrature of order 3 is 0.5\n",
      "∫x^1 dx on [0, 1] computed with gaussian quadrature of order 5 is 0.5000000000000002\n",
      "∫x^1 dx on [0, 1] computed with gaussian quadrature of order 7 is 0.49999999999999956\n",
      "\n",
      "∫x^2 dx on [0, 1] computed with gaussian quadrature of order 1 is 0.25\n",
      "∫x^2 dx on [0, 1] computed with gaussian quadrature of order 3 is 0.33333333333333304\n",
      "∫x^2 dx on [0, 1] computed with gaussian quadrature of order 5 is 0.3333333333333334\n",
      "∫x^2 dx on [0, 1] computed with gaussian quadrature of order 7 is 0.333333333333333\n",
      "\n",
      "∫x^3 dx on [0, 1] computed with gaussian quadrature of order 1 is 0.125\n",
      "∫x^3 dx on [0, 1] computed with gaussian quadrature of order 3 is 0.24999999999999958\n",
      "∫x^3 dx on [0, 1] computed with gaussian quadrature of order 5 is 0.25\n",
      "∫x^3 dx on [0, 1] computed with gaussian quadrature of order 7 is 0.24999999999999972\n",
      "\n",
      "∫x^4 dx on [0, 1] computed with gaussian quadrature of order 1 is 0.0625\n",
      "∫x^4 dx on [0, 1] computed with gaussian quadrature of order 3 is 0.194444444444444\n",
      "∫x^4 dx on [0, 1] computed with gaussian quadrature of order 5 is 0.2\n",
      "∫x^4 dx on [0, 1] computed with gaussian quadrature of order 7 is 0.19999999999999973\n",
      "\n",
      "∫x^5 dx on [0, 1] computed with gaussian quadrature of order 1 is 0.03125\n",
      "∫x^5 dx on [0, 1] computed with gaussian quadrature of order 3 is 0.15277777777777732\n",
      "∫x^5 dx on [0, 1] computed with gaussian quadrature of order 5 is 0.16666666666666663\n",
      "∫x^5 dx on [0, 1] computed with gaussian quadrature of order 7 is 0.16666666666666644\n",
      "\n",
      "∫x^6 dx on [0, 1] computed with gaussian quadrature of order 1 is 0.015625\n",
      "∫x^6 dx on [0, 1] computed with gaussian quadrature of order 3 is 0.12037037037036995\n",
      "∫x^6 dx on [0, 1] computed with gaussian quadrature of order 5 is 0.14249999999999993\n",
      "∫x^6 dx on [0, 1] computed with gaussian quadrature of order 7 is 0.14285714285714263\n",
      "\n",
      "∫x^7 dx on [0, 1] computed with gaussian quadrature of order 1 is 0.0078125\n",
      "∫x^7 dx on [0, 1] computed with gaussian quadrature of order 3 is 0.09490740740740701\n",
      "∫x^7 dx on [0, 1] computed with gaussian quadrature of order 5 is 0.12374999999999989\n",
      "∫x^7 dx on [0, 1] computed with gaussian quadrature of order 7 is 0.12499999999999978\n",
      "\n"
     ]
    }
   ],
   "source": [
    "for k in range(8):\n",
    "    for order, integ_points in integration_points.items():\n",
    "        value = integrate(integ_points, (0, 1), lambda x: x**k)\n",
    "        print(\"∫x^{} dx on [0, 1] computed with gaussian quadrature of order {} is {}\".format(k, order, value))\n",
    "    print(\"\")"
   ]
  },
  {
   "cell_type": "markdown",
   "metadata": {},
   "source": [
    "## Weak formulation\n",
    "Now that we can integrate a function over an interval, we return to solving our ODE:\n",
    "$$\\left\\{\\begin{eqnarray}\n",
    "&&p(x)u - \\frac{d}{dx}\\left(q(x) \\frac{du}{dx}\\right) = r(x) \\in ]0, L[\\\\\n",
    "&&u(0) = c, \\quad q(L)\\frac{du}{dx}(L) = d\n",
    "\\end{eqnarray}\\right.$$\n",
    "By multiplying it by any function $w$ and integrating by parts, we obtain the *weak formulation*\n",
    "$$\\forall w \\quad a(u, w) = l(w)$$\n",
    "where \n",
    "$$a(u, w) = \\int_0^L \\left(p(x)u(x)w(x) + q(x)u'(x)w'(x)\\right)dx\n",
    "\\quad\\text{and}\\quad\n",
    "l(w) = d\\,w(L) + \\int_0^L r(x)w(x)dx.$$\n",
    "\n",
    "If we chose a function $u_0$ such that $u_0(0) = c$, we can instead solve\n",
    "$$\\forall w \\quad a(\\delta_u, w) = l(w) - a(u_0, w)$$\n",
    "for $\\delta_u$, with $u = u_0 + \\delta_u$. Here, we chose $u_0: x\\rightarrow c$.\n",
    "\n",
    "\n",
    "This weak formulation can then be coded in python as a function"
   ]
  },
  {
   "cell_type": "code",
   "execution_count": 19,
   "metadata": {},
   "outputs": [],
   "source": [
    "def weak_formulation(integrate, L, p, q, r, c, d):\n",
    "    def a(u, w, du_dx, dw_dx):\n",
    "        integrand = lambda x: p(x)*u(x)*w(x) + q(x)*du_dx(x)*dw_dx(x)\n",
    "        return integrate((0, L), integrand)\n",
    "    def l(w, dw_dx):\n",
    "        integrand = lambda x: r(x)*w(x)\n",
    "        return d*w(L) + integrate((0, L), integrand)\n",
    "    return a, l"
   ]
  },
  {
   "cell_type": "markdown",
   "metadata": {},
   "source": [
    "that returns the bilinear form $u, w \\rightarrow a(u, w)$ and the linear form $w \\rightarrow l(w)$.\n",
    "\n",
    "Note that it is necessary to pass the derivatives $u'$ and $w'$ to the function, since they are not deduced automatically from $u$ and $w$."
   ]
  },
  {
   "cell_type": "markdown",
   "metadata": {},
   "source": [
    "## Ritz method\n",
    "\n",
    "Now, we can solve the problem by restricting the search space for $u$ and the test space for $w$ to spaces of finite dimension, that can be generated by linear combinations of some well-chosen basis functions that must be null on the Dirichlet BC of the problem.\n",
    "\n",
    "For instance, we can choose as for the search space and for the test space the set of polynomials of order 4 or less that are null in $0$. A basis of this space is \n",
    "$$\\{\\phi_k: x\\rightarrow x^{k+1}, 0\\leq k\\leq 3\\}.$$"
   ]
  },
  {
   "cell_type": "markdown",
   "metadata": {},
   "source": [
    "Now we can search for $\\delta_u = \\sum_j x_j \\phi_j(x)$, and compute the weak formulation for all $v = \\phi_i$, yielding a linear sytem\n",
    "$$A x = b$$\n",
    "where $A_{ij} = a(\\phi_j, \\phi_i)$ and $b_i = l(\\phi_i)$.\n",
    "\n",
    "All the basis functions $\\phi$ must be null on the Dirichlet BC $\\phi(0) = 0$. \n",
    "\n",
    "We choose $\\phi_k: x \\rightarrow x^k$ for $1\\leq k < 5$. It follows that $\\phi_k'(x) = kx^{k-1}$"
   ]
  },
  {
   "cell_type": "code",
   "execution_count": 93,
   "metadata": {},
   "outputs": [],
   "source": [
    "def polynomial_basis_function(k):\n",
    "    𝜙k = lambda x: x**k\n",
    "    d𝜙k_dx = lambda x: k * x**(k-1)\n",
    "    return 𝜙k, d𝜙k_dx\n",
    "    \n",
    "polynomial_basis = [polynomial_basis_function(k) for k in range(1, 5)]"
   ]
  },
  {
   "cell_type": "markdown",
   "metadata": {},
   "source": [
    "Now, we can compute the linear system $(A, b)$"
   ]
  },
  {
   "cell_type": "code",
   "execution_count": 94,
   "metadata": {},
   "outputs": [],
   "source": [
    "import numpy as np\n",
    "\n",
    "def ritz(weak_formulation, basis):\n",
    "    a, l = weak_formulation\n",
    "    # Linear system initialization\n",
    "    n_dof = len(basis)\n",
    "    A = np.empty((n_dof, n_dof))\n",
    "    b = np.empty(n_dof)\n",
    "    # Compute A𝑖𝑗 = 𝑎(𝜙𝑗, 𝜙𝑖) and b𝑖 = 𝑙(𝜙𝑖)\n",
    "    for i, (𝜙i, d𝜙i_dx) in enumerate(basis):\n",
    "        for j, (𝜙j, d𝜙j_dx) in enumerate(basis):\n",
    "            A[i, j] = a(𝜙j, 𝜙i, d𝜙j_dx, d𝜙i_dx)\n",
    "        b[i] = l(𝜙i, d𝜙i_dx)\n",
    "    return A, b\n"
   ]
  },
  {
   "cell_type": "markdown",
   "metadata": {},
   "source": [
    "### Example\n",
    "We can now test the Ritz method on the heat equation\n",
    "$$\\left\\{\\begin{eqnarray}\n",
    "&&-u''(x) = 1 \\in ]0, 10[\\\\\n",
    "&&u(0) = 1, \\quad u'(10) = 1\n",
    "\\end{eqnarray}\\right.$$\n",
    "which is a particular case of the former problem with\n",
    "$L=10$, $p(x) = 0$, $q(x) = r(x) = 1$, and $c = d = 1$"
   ]
  },
  {
   "cell_type": "code",
   "execution_count": 103,
   "metadata": {},
   "outputs": [
    {
     "data": {
      "text/plain": [
       "(array([[1.00000000e+01, 1.00000000e+02, 1.00000000e+03, 1.00000000e+04],\n",
       "        [1.00000000e+02, 1.33333333e+03, 1.50000000e+04, 1.60000000e+05],\n",
       "        [1.00000000e+03, 1.50000000e+04, 1.80000000e+05, 2.00000000e+06],\n",
       "        [1.00000000e+04, 1.60000000e+05, 2.00000000e+06, 2.28571429e+07]]),\n",
       " array([   60.        ,   433.33333333,  3500.        , 30000.        ]))"
      ]
     },
     "execution_count": 103,
     "metadata": {},
     "output_type": "execute_result"
    }
   ],
   "source": [
    "L = 10\n",
    "p = lambda x: 0\n",
    "q = r = lambda x: 1\n",
    "c = d = 1\n",
    "integrator = lambda domain, f: integrate(integration_points[7], domain, f)\n",
    "a, l = weak_formulation(integrator, L, p, q, r, c, d)\n",
    "A, b = ritz((a, l), polynomial_basis)\n",
    "A, b"
   ]
  },
  {
   "cell_type": "markdown",
   "metadata": {},
   "source": [
    "Then, we solve the linear system $Ax=b$"
   ]
  },
  {
   "cell_type": "code",
   "execution_count": 84,
   "metadata": {},
   "outputs": [
    {
     "data": {
      "text/plain": [
       "array([ 1.10000000e+01, -5.00000000e-01, -8.95283847e-15,  4.47641924e-16])"
      ]
     },
     "execution_count": 84,
     "metadata": {},
     "output_type": "execute_result"
    }
   ],
   "source": [
    "x_ = np.linalg.solve(A, b)\n",
    "x_"
   ]
  },
  {
   "cell_type": "markdown",
   "metadata": {},
   "source": [
    "and we can deduce $\\delta_u: x \\rightarrow \\sum x_j \\phi_j(x) = 11x - \\frac{x²}{2}$ and \n",
    "$$u(x) = u_0(x) + \\delta_u(x) = 1 + 11x - \\frac{x²}{2}.$$"
   ]
  },
  {
   "cell_type": "code",
   "execution_count": 97,
   "metadata": {},
   "outputs": [
    {
     "data": {
      "text/plain": [
       "[<matplotlib.lines.Line2D at 0x7f001b8f97b8>]"
      ]
     },
     "execution_count": 97,
     "metadata": {},
     "output_type": "execute_result"
    },
    {
     "data": {
      "image/png": "[encoded data removed]",
      "text/plain": [
       "<Figure size 432x288 with 1 Axes>"
      ]
     },
     "metadata": {
      "needs_background": "light"
     },
     "output_type": "display_data"
    }
   ],
   "source": [
    "def u(x):\n",
    "    return 1 + sum(xj*𝜙_j(x) for xj, (𝜙_j, d𝜙_j_dx) in zip(x_, polynomial_basis))\n",
    "\n",
    "from matplotlib import pyplot as plt\n",
    "plt.plot([u(x) for x in range(11)])"
   ]
  },
  {
   "cell_type": "markdown",
   "metadata": {},
   "source": [
    "## A nonlinear example"
   ]
  },
  {
   "cell_type": "markdown",
   "metadata": {},
   "source": [
    "We want to solve the ODE\n",
    "$$ -u'' - 3k (u'²)' = f,\\ u(0) = u(1) = 0.$$\n",
    "\n",
    "The corresponding variational formulation is\n",
    "$$\\forall w \\quad u'w' + 3k\\,u'²\\,v' = fv.$$\n",
    "\n",
    "If we want the solution to be, for instance, \n",
    "$u(x) = x - x^3$, we have \n",
    "$u'(x) = 1 - 3x²$,\n",
    "$u''(x) = -6x$,\n",
    "$(u'²)'(x) = 2u''(x)u'(x) = -12x(1-3x²)$.\n",
    "\n",
    "\n",
    "Then, we need $f(x) = -u'' - 3k (u'²)' = 6x + 36k\\ x(1-3x²) = (6+36k)x - 108x²$."
   ]
  }
 ],
 "metadata": {
  "kernelspec": {
   "display_name": "Python 3",
   "language": "python",
   "name": "python3"
  },
  "language_info": {
   "codemirror_mode": {
    "name": "ipython",
    "version": 3
   },
   "file_extension": ".py",
   "mimetype": "text/x-python",
   "name": "python",
   "nbconvert_exporter": "python",
   "pygments_lexer": "ipython3",
   "version": "3.7.3"
  }
 },
 "nbformat": 4,
 "nbformat_minor": 4
}
